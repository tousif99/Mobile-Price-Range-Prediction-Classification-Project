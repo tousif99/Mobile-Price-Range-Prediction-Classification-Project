{
  "nbformat": 4,
  "nbformat_minor": 0,
  "metadata": {
    "colab": {
      "provenance": [],
      "authorship_tag": "ABX9TyOLZHm9LQ5cR7g8PZHe+rot",
      "include_colab_link": true
    },
    "kernelspec": {
      "name": "python3",
      "display_name": "Python 3"
    },
    "language_info": {
      "name": "python"
    }
  },
  "cells": [
    {
      "cell_type": "markdown",
      "metadata": {
        "id": "view-in-github",
        "colab_type": "text"
      },
      "source": [
        "<a href=\"https://colab.research.google.com/github/tousif99/Mobile-Price-Range-Prediction-Classification-Project/blob/main/Mobile_Price_Range_Prediction_Classification_Project.ipynb\" target=\"_parent\"><img src=\"https://colab.research.google.com/assets/colab-badge.svg\" alt=\"Open In Colab\"/></a>"
      ]
    },
    {
      "cell_type": "markdown",
      "source": [
        "## **Project Name - Mobile Price Range Prediction Classification Project.**\n",
        "\n",
        "### **Project Type - Classification**\n",
        "\n",
        "## **Contribution - Team**\n",
        "\n",
        "**Team Member 1 -** Tousif Sheikh\n",
        "\n",
        "**Team Member 2 -** Mohammad Sufawan\n",
        "\n",
        "**Team Member 3 -** Udit kumar\n",
        "\n",
        "# **Project Summary :**\n",
        "This data science project aimed to predict mobile phone price ranges based on their specifications using machine learning algorithms. The dataset consisted of various features related to mobile phones such as battery capacity, RAM, internal memory, camera quality, and other hardware specifications. The dataset was split into training and testing sets and several machine learning algorithms such as Logistic Regression, Decision Tree, Random Forest, and Support Vector Machines (SVM) were applied to the training set. The Random Forest algorithm was chosen as the final model due to its high accuracy and F1-score. The project concluded that predictive modeling can be an effective approach for mobile price range detection and highlighted the importance of data preprocessing and feature engineering for improving model accuracy.\n",
        "GitHub Link :\n"
      ],
      "metadata": {
        "id": "EWUc_xOzoRci"
      }
    },
    {
      "cell_type": "markdown",
      "source": [
        "# **GitHub Link :**\n",
        "Mohammad Sufawan -https://github.com/sufawan20/Mobile-Price-Range-Prediction-Classification-Project./blob/main/Mobile_Price_Range_Prediction_Classification_Project.ipynb\n",
        "\n",
        "Tousif sheikh- https://github.com/tousif99/Mobile-Price-Range-Prediction-Classification-Project/blob/main/Mobile_Price_Range_Prediction_Classification_Project.ipynb"
      ],
      "metadata": {
        "id": "pBhwQGHYoc5B"
      }
    }
  ]
}